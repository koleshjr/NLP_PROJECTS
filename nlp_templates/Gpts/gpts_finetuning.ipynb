{
 "cells": [
  {
   "cell_type": "markdown",
   "metadata": {},
   "source": [
    "## GPT FINETUNING FOR DOMAIN SPECIFIC TASKS\n",
    "* Special Thanks to Iheb Chachane (Reacher) for his contribution to this project by opensourcing some of his work\n",
    "* Finetuning Mistral and Zephyr models for domain specific tasks\n"
   ]
  },
  {
   "cell_type": "code",
   "execution_count": null,
   "metadata": {},
   "outputs": [],
   "source": [
    "! pip install -U transformers accelerate peft bitsandbytes -q"
   ]
  },
  {
   "cell_type": "code",
   "execution_count": null,
   "metadata": {},
   "outputs": [],
   "source": [
    "import random\n",
    "import os\n",
    "import torch\n",
    "import pandas as pd\n",
    "import numpy as np \n",
    "from sklearn.metrics import accuracy_score, log_loss\n",
    "from sklearn.model_selection import  StratifiedKFold\n",
    "from transformers import BitsAndBytesConfig, DataCollatorWithPadding, TrainingArguments, Trainer\n",
    "from datasets import Dataset\n",
    "from transformers import AutoTokenizer, LlamaForSequenceClassification\n",
    "from peft import get_peft_config, PeftModel, PeftConfig, get_peft_model, LoraConfig, TaskType\n"
   ]
  },
  {
   "cell_type": "code",
   "execution_count": null,
   "metadata": {},
   "outputs": [],
   "source": [
    "class Cfg:\n",
    "    model_type = \"mistral\" # zephyr\n",
    "    model_name = \"mistralai/Mistral-7B-v0.1\" if model_type == \"mistral\" else \"HuggingFaceH4/zephyr-7b-alpha\"\n",
    "    debug = False \n",
    "    seed = 42\n",
    "    max_len = 512\n",
    "    use_peft = True\n",
    "    steps = 5 if debug else 50\n",
    "    num_labels = 7\n",
    "\n",
    "def set_seed(seed=42):\n",
    "    '''Sets the seed of the entire notebook so results are the same every time we run.\n",
    "    This is for REPRODUCIBILITY.'''\n",
    "    np.random.seed(seed)\n",
    "    torch.manual_seed(seed)\n",
    "    torch.cuda.manual_seed(seed)\n",
    "    # When running on the CuDNN backend, two further options must be set\n",
    "    torch.backends.cudnn.deterministic = True\n",
    "    torch.backends.cudnn.benchmark = False\n",
    "    # Set a fixed value for the hash seed\n",
    "    os.environ['PYTHONHASHSEED'] = str(seed)\n",
    "    \n",
    "set_seed(Cfg.seed)"
   ]
  },
  {
   "cell_type": "markdown",
   "metadata": {},
   "source": [
    "### Data Loading\n",
    "* They should have columns: prompt, context, label or question, context, label\n"
   ]
  },
  {
   "cell_type": "code",
   "execution_count": null,
   "metadata": {},
   "outputs": [],
   "source": [
    "train = pd.read_csv(\"Your path to train.csv\")\n",
    "test = pd.read_csv(\"Your path to test.csv\")\n",
    "\n",
    "display(train.head(), test.head())"
   ]
  },
  {
   "cell_type": "code",
   "execution_count": null,
   "metadata": {},
   "outputs": [],
   "source": [
    "train['input'] = \"Prompt: \" + train['prompt'] + \"Context: \" + train['context']\n",
    "test['input'] = \"Prompt: \" + test['prompt'] + \"Context: \" + test['context']\n"
   ]
  },
  {
   "cell_type": "markdown",
   "metadata": {},
   "source": [
    "### Cross Validation"
   ]
  },
  {
   "cell_type": "code",
   "execution_count": null,
   "metadata": {},
   "outputs": [],
   "source": [
    "folds = StratifiedKFold(n_splits=5)\n",
    "train['fold'] = -1\n",
    "for i,(train_index, test_index) in enumerate(folds.split(train,train['label'])): \n",
    "    train.loc[test_index,'fold'] = i"
   ]
  },
  {
   "cell_type": "markdown",
   "metadata": {},
   "source": [
    "### Build Tokenizer"
   ]
  },
  {
   "cell_type": "code",
   "execution_count": null,
   "metadata": {},
   "outputs": [],
   "source": [
    "tokenizer = AutoTokenizer.from_pretrained(Cfg.model_name, use_fast = False)\n",
    "tokenizer.pad_token = tokenizer.eos_token\n"
   ]
  },
  {
   "cell_type": "code",
   "execution_count": null,
   "metadata": {},
   "outputs": [],
   "source": [
    "def preprocess_function(examples, max_length=Cfg.max_len):\n",
    "    return tokenizer(examples[\"input\"], truncation=True, max_length=max_length, padding=\"max_length\")"
   ]
  },
  {
   "cell_type": "code",
   "execution_count": null,
   "metadata": {},
   "outputs": [],
   "source": [
    "data_collator = DataCollatorWithPadding(tokenizer=tokenizer, padding = \"longest\")"
   ]
  },
  {
   "cell_type": "markdown",
   "metadata": {},
   "source": [
    "### Metric "
   ]
  },
  {
   "cell_type": "code",
   "execution_count": null,
   "metadata": {},
   "outputs": [],
   "source": [
    "def compute_metrics(eval_pred):\n",
    "    logits, labels = eval_pred\n",
    "    predictions = np.argmax(logits, axis=-1)\n",
    "    return {\"accuracy\": accuracy_score(labels, predictions)}\n",
    "\n",
    "def softmax(x):\n",
    "    e_x = np.exp(x - np.max(x, axis=1, keepdims=True))\n",
    "    return e_x / e_x.sum(axis=1, keepdims=True)"
   ]
  },
  {
   "cell_type": "markdown",
   "metadata": {},
   "source": [
    "### Build Model"
   ]
  },
  {
   "cell_type": "code",
   "execution_count": null,
   "metadata": {},
   "outputs": [],
   "source": [
    "def print_trainable_parameters(model):\n",
    "    \"\"\"\n",
    "    Prints the number of trainable parameters in the model.\n",
    "    \"\"\"\n",
    "    trainable_params = 0\n",
    "    all_param = 0\n",
    "    for _, param in model.named_parameters():\n",
    "        \n",
    "        all_param += param.numel()\n",
    "        if param.requires_grad:\n",
    "            print(_)\n",
    "            trainable_params += param.numel()\n",
    "    print(\n",
    "        f\"trainable params: {trainable_params} || all params: {all_param} || trainable%: {100 * trainable_params / all_param}\"\n",
    "    )"
   ]
  },
  {
   "cell_type": "code",
   "execution_count": null,
   "metadata": {},
   "outputs": [],
   "source": [
    "def train():\n",
    "    for fold in range(5):\n",
    "        print(f\"Fold {fold} ----------------------------------- TRAINING -----------------------------------\")\n",
    "        train_df = train[train['fold'] != fold]\n",
    "        valid_df = train[train['fold'] == fold]\n",
    "\n",
    "        train_dataset = Dataset.from_pandas(train_df)\n",
    "        valid_dataset = Dataset.from_pandas(valid_df)\n",
    "\n",
    "        train_tokenized_df = train_dataset.map(preprocess_function, batched=True)\n",
    "        valid_tokenized_df = valid_dataset.map(preprocess_function, batched=True)\n",
    "\n",
    "        if Cfg.use_peft:\n",
    "            peft_config = LoraConfig(\n",
    "                r=4,\n",
    "                lora_alpha=16,\n",
    "                lora_dropout=0.1,\n",
    "                bias=\"none\",\n",
    "                task_type=TaskType.SEQ_CLS,\n",
    "                inference_mode=False,\n",
    "                target_modules=[\n",
    "                    \"q_proj\",\n",
    "                    \"v_proj\"\n",
    "                ],\n",
    "                )\n",
    "            \n",
    "            bnb_config = BitsAndBytesConfig(\n",
    "                load_in_4bit=True,\n",
    "                bnb_4bit_quant_type=\"nf4\",\n",
    "                bnb_4bit_use_double_quant=True,\n",
    "                bnb_4bit_compute_dtype=torch.bfloat16\n",
    "            )    \n",
    "\n",
    "            base_model = LlamaForSequenceClassification.from_pretrained(\n",
    "                Cfg.model_name,\n",
    "                Cfg.num_labels,\n",
    "                quantization_config = bnb_config,\n",
    "                device_map = {\"\":0}\n",
    "            )\n",
    "\n",
    "            model = get_peft_model(base_model, peft_config)\n",
    "            print_trainable_parameters(model)\n",
    "\n",
    "        else:\n",
    "            model = LlamaForSequenceClassification.from_pretrained(\n",
    "                Cfg.model_name,\n",
    "                Cfg.num_labels\n",
    "            )\n",
    "            print_trainable_parameters(model)\n",
    "\n",
    "        training_args = TrainingArguments(\n",
    "            output_dir=f\"outputs/fold{fold}\",\n",
    "            learning_rate=1e-4,\n",
    "            per_device_train_batch_size=1,\n",
    "            per_device_eval_batch_size=1,\n",
    "            gradient_accumulation_steps=8,\n",
    "            max_grad_norm= 3,#0.3,\n",
    "            optim='paged_adamw_32bit',\n",
    "            lr_scheduler_type=\"cosine\",\n",
    "            num_train_epochs=3,\n",
    "            weight_decay=0.0001,\n",
    "            evaluation_strategy=\"steps\",\n",
    "            save_strategy=\"steps\",\n",
    "            save_steps = 100,\n",
    "            eval_steps = 100,\n",
    "            logging_steps= 100,\n",
    "            load_best_model_at_end=True,\n",
    "            push_to_hub=False,\n",
    "            warmup_steps=10,\n",
    "            report_to='none' # if DEBUG else 'wandb',\n",
    "        )\n",
    "\n",
    "        trainer = Trainer(\n",
    "            model=model,\n",
    "            args=training_args,\n",
    "            train_dataset=train_tokenized_df,\n",
    "            eval_dataset=valid_tokenized_df,\n",
    "            tokenizer=tokenizer,\n",
    "            data_collator=data_collator,\n",
    "            #compute_metrics=compute_metrics,\n",
    "        )\n",
    "\n",
    "        trainer.train()\n",
    "\n",
    "        print(f\"Fold {fold} ----------------------------------- VALIDATING -----------------------------------\")\n",
    "        valid_preds = trainer.predict(valid_tokenized_df)\n",
    "        valid_preds = softmax(valid_preds.predictions)\n",
    "        np.save(f\"outputs/fold{fold}/valid_preds.npy\", valid_preds)\n",
    "\n",
    "    del trainer, model, base_model\n",
    "                \n"
   ]
  },
  {
   "cell_type": "markdown",
   "metadata": {},
   "source": [
    "### Inference"
   ]
  },
  {
   "cell_type": "code",
   "execution_count": null,
   "metadata": {},
   "outputs": [],
   "source": [
    "def inference():\n",
    "    test_dataset = Dataset.from_pandas(test)\n",
    "    test_tokenized_df = test_dataset.map(preprocess_function, batched=True)\n",
    "    label_cols = [f'label_{i}' for i in range(Cfg.num_labels)]\n",
    "    checkpoints = [f\"outputs/fold{fold}/checkpoint-{Cfg.steps}\" for fold in range(5)]\n",
    "    test_preds = []\n",
    "\n",
    "    for fold, checkpoint in enumerate(checkpoints):\n",
    "        print(f\"Fold {fold} ----------------------------------- TESTING -----------------------------------\")\n",
    "        bnb_config = BitsAndBytesConfig(\n",
    "            load_in_4bit=True,\n",
    "            bnb_4bit_quant_type=\"nf4\",\n",
    "            bnb_4bit_use_double_quant=True,\n",
    "            bnb_4bit_compute_dtype=torch.bfloat16\n",
    "        )\n",
    "        base_model = LlamaForSequenceClassification.from_pretrained(\n",
    "            Cfg.model_name,\n",
    "            Cfg.num_labels,\n",
    "            quantization_config = bnb_config,\n",
    "            device_map = {\"\":0}\n",
    "        )\n",
    "\n",
    "        base_model.config.pretraining_tp = 1 # 1 for 7B\n",
    "        base_model.config.pad_token_id = tokenizer.pad_token_id\n",
    "\n",
    "        model = PeftModel(base_model, get_peft_config(checkpoint))\n",
    "\n",
    "        trainer = Trainer(\n",
    "            model = model,\n",
    "            tokenizer = tokenizer,\n",
    "            data_collator = data_collator,\n",
    "        )\n",
    "\n",
    "        # valid \n",
    "        valid_df = train[train['fold'] == fold]\n",
    "        idxs = valid_df.index\n",
    "        valid_dataset = Dataset.from_pandas(valid_df)\n",
    "        valid_tokenized_df = valid_dataset.map(preprocess_function, batched=True)\n",
    "\n",
    "        valid_preds = trainer.predict(valid_tokenized_df)\n",
    "        valid_preds = softmax(valid_preds.predictions)\n",
    "        train.loc[idxs, label_cols] = valid_preds\n",
    "\n",
    "        # test\n",
    "\n",
    "        preds = trainer.predict(test_tokenized_df)\n",
    "        preds = softmax(preds.predictions)\n",
    "        test_preds.append(preds)\n",
    "\n",
    "    del trainer, model, base_model\n",
    "\n",
    "    test[label_cols] = np.mean(test_preds, axis=0)\n",
    "    test[['id'] + label_cols].to_csv('experiment_1.csv', index=False)\n",
    "\n",
    "    print(\"oof_logloss:\", log_loss(train['label'], train[label_cols].values))\n",
    "\n"
   ]
  },
  {
   "cell_type": "code",
   "execution_count": null,
   "metadata": {},
   "outputs": [],
   "source": [
    "if __name__ == \"__main__\":\n",
    "    train()\n",
    "    inference()"
   ]
  }
 ],
 "metadata": {
  "kernelspec": {
   "display_name": "machine_learning",
   "language": "python",
   "name": "python3"
  },
  "language_info": {
   "name": "python",
   "version": "3.11.3"
  }
 },
 "nbformat": 4,
 "nbformat_minor": 2
}
